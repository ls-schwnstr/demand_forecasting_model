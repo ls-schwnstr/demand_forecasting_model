{
 "cells": [
  {
   "cell_type": "markdown",
   "id": "11e5dc7a",
   "metadata": {},
   "source": [
    "## Step 1: Data Preprocessing"
   ]
  },
  {
   "cell_type": "markdown",
   "id": "3b89ae1c",
   "metadata": {},
   "source": [
    "### Raw Data Import"
   ]
  },
  {
   "cell_type": "code",
   "execution_count": 1,
   "id": "4d611ab9",
   "metadata": {},
   "outputs": [
    {
     "name": "stdout",
     "output_type": "stream",
     "text": [
      "                Date/Time      Lat      Lon    Base\n",
      "2147937  4/1/2014 0:00:00  40.7188 -73.9863  B02598\n",
      "2439200  4/1/2014 0:00:00  40.7215 -73.9952  B02682\n",
      "2147936  4/1/2014 0:00:00  40.7637 -73.9600  B02598\n",
      "2331199  4/1/2014 0:01:00  40.7355 -73.9966  B02617\n",
      "2439201  4/1/2014 0:02:00  40.7184 -73.9601  B02682\n",
      "4534327\n"
     ]
    }
   ],
   "source": [
    "import pandas as pd\n",
    "import glob\n",
    "import os\n",
    "\n",
    "# Path to the directory containing all CSV files relative to the Jupyter notebook location\n",
    "directory_path = os.path.join(\"..\", \"Rawdata\")\n",
    "\n",
    "# List all CSV files in the directory\n",
    "file_paths = glob.glob(os.path.join(directory_path, \"*.csv\"))\n",
    "\n",
    "# Load all CSV files and concatenate them into one DataFrame\n",
    "dfs = []\n",
    "for file_path in file_paths:\n",
    "    df = pd.read_csv(file_path)\n",
    "    dfs.append(df)\n",
    "    \n",
    "# Concatenate all DataFrames into one\n",
    "df = pd.concat(dfs, ignore_index=True)\n",
    "\n",
    "df = df.sort_values(by=['Date/Time'])\n",
    "\n",
    "print(df.head())\n",
    "print(len(df))"
   ]
  },
  {
   "cell_type": "markdown",
   "id": "b8440740",
   "metadata": {},
   "source": [
    "### Data Quality Check"
   ]
  },
  {
   "cell_type": "code",
   "execution_count": 2,
   "id": "c4a132a3",
   "metadata": {},
   "outputs": [
    {
     "name": "stdout",
     "output_type": "stream",
     "text": [
      "Columns with missing values:\n",
      "Series([], dtype: bool)\n"
     ]
    }
   ],
   "source": [
    "# Check for missing values in each column\n",
    "missing_values = df.isnull().any()\n",
    "\n",
    "# Display columns with missing values, if any\n",
    "print(\"Columns with missing values:\")\n",
    "print(missing_values[missing_values])"
   ]
  },
  {
   "cell_type": "code",
   "execution_count": 3,
   "id": "17b89b5f",
   "metadata": {},
   "outputs": [],
   "source": [
    "# Convert Date/Time column to datetime format\n",
    "df['Date/Time'] = pd.to_datetime(df['Date/Time'], errors='coerce')\n",
    "\n",
    "# Create new columns for 'Date' and 'Time' from 'Date/Time' column\n",
    "df['Date'] = df['Date/Time'].dt.date\n",
    "df['Date'] = pd.to_datetime(df['Date'])\n",
    "df['Time'] = df['Date/Time'].dt.time\n",
    "df['Hour'] = df['Date/Time'].dt.hour \n",
    "\n",
    "# Check for missing or invalid dates and times\n",
    "invalid_dates = df['Date/Time'].isnull()\n",
    "if invalid_dates.any():\n",
    "    print(\"Invalid date/time values:\")\n",
    "    print(df[invalid_dates])"
   ]
  },
  {
   "cell_type": "code",
   "execution_count": 4,
   "id": "7c6d76a3",
   "metadata": {},
   "outputs": [],
   "source": [
    "# Check for valid latitude and longitude ranges\n",
    "invalid_lat = (df['Lat'] < -90) | (df['Lat'] > 90)\n",
    "invalid_lon = (df['Lon'] < -180) | (df['Lon'] > 180)\n",
    "if invalid_lat.any() or invalid_lon.any():\n",
    "    print(\"\\nInvalid latitude or longitude values:\")\n",
    "    print(df[invalid_lat | invalid_lon])"
   ]
  },
  {
   "cell_type": "code",
   "execution_count": 5,
   "id": "6b16f283",
   "metadata": {},
   "outputs": [
    {
     "name": "stdout",
     "output_type": "stream",
     "text": [
      "Total number of bases: 5\n"
     ]
    }
   ],
   "source": [
    "# Count the total number of bases\n",
    "total_bases = df['Base'].nunique()\n",
    "\n",
    "# Display the total number of vehicles\n",
    "print(\"Total number of bases:\", total_bases)"
   ]
  },
  {
   "cell_type": "code",
   "execution_count": 6,
   "id": "225dd988",
   "metadata": {},
   "outputs": [],
   "source": [
    "# Check for unexpected Base values\n",
    "unexpected_base_values = ~df['Base'].isin(['B02512', 'B02598', 'B02617', 'B02682', 'B02764'])\n",
    "if unexpected_base_values.any():\n",
    "    print(\"\\nUnexpected Base values:\")\n",
    "    print(data[unexpected_base_values])"
   ]
  },
  {
   "cell_type": "markdown",
   "id": "b5aa7cfd",
   "metadata": {},
   "source": [
    "### Clustering"
   ]
  },
  {
   "cell_type": "code",
   "execution_count": 7,
   "id": "66c01775",
   "metadata": {},
   "outputs": [
    {
     "name": "stdout",
     "output_type": "stream",
     "text": [
      "[[ 40.78511583 -73.95691565]\n",
      " [ 40.65426886 -73.78100409]\n",
      " [ 40.66846762 -73.9800213 ]\n",
      " [ 40.69879499 -74.20305777]\n",
      " [ 40.76412888 -73.86620222]\n",
      " [ 40.77775737 -73.50419636]\n",
      " [ 40.75610944 -73.98209747]\n",
      " [ 40.91973127 -73.8529558 ]\n",
      " [ 40.71022137 -73.94605119]\n",
      " [ 40.72697703 -73.99997393]]\n"
     ]
    }
   ],
   "source": [
    "from sklearn.cluster import KMeans\n",
    "\n",
    "X = df[['Lat', 'Lon']]\n",
    "\n",
    "# Fit K-Means model\n",
    "kmeans = KMeans(n_clusters=10, random_state=42, n_init = 10) #Set 10 clusters\n",
    "kmeans.fit(X)\n",
    "\n",
    "# Get cluster labels\n",
    "cluster_labels = kmeans.labels_\n",
    "\n",
    "# Get cluster centers\n",
    "cluster_centers = kmeans.cluster_centers_\n",
    "\n",
    "# Print cluster centers\n",
    "print(cluster_centers)\n"
   ]
  },
  {
   "cell_type": "code",
   "execution_count": 8,
   "id": "8409db4c",
   "metadata": {},
   "outputs": [
    {
     "data": {
      "text/html": [
       "<div>\n",
       "<style scoped>\n",
       "    .dataframe tbody tr th:only-of-type {\n",
       "        vertical-align: middle;\n",
       "    }\n",
       "\n",
       "    .dataframe tbody tr th {\n",
       "        vertical-align: top;\n",
       "    }\n",
       "\n",
       "    .dataframe thead th {\n",
       "        text-align: right;\n",
       "    }\n",
       "</style>\n",
       "<table border=\"1\" class=\"dataframe\">\n",
       "  <thead>\n",
       "    <tr style=\"text-align: right;\">\n",
       "      <th></th>\n",
       "      <th>Lat</th>\n",
       "      <th>Lon</th>\n",
       "      <th>Cluster</th>\n",
       "      <th>Count</th>\n",
       "    </tr>\n",
       "  </thead>\n",
       "  <tbody>\n",
       "    <tr>\n",
       "      <th>0</th>\n",
       "      <td>40.785116</td>\n",
       "      <td>-73.956916</td>\n",
       "      <td>0</td>\n",
       "      <td>543221</td>\n",
       "    </tr>\n",
       "    <tr>\n",
       "      <th>1</th>\n",
       "      <td>40.654269</td>\n",
       "      <td>-73.781004</td>\n",
       "      <td>1</td>\n",
       "      <td>128843</td>\n",
       "    </tr>\n",
       "    <tr>\n",
       "      <th>2</th>\n",
       "      <td>40.668468</td>\n",
       "      <td>-73.980021</td>\n",
       "      <td>2</td>\n",
       "      <td>284925</td>\n",
       "    </tr>\n",
       "    <tr>\n",
       "      <th>3</th>\n",
       "      <td>40.698795</td>\n",
       "      <td>-74.203058</td>\n",
       "      <td>3</td>\n",
       "      <td>45122</td>\n",
       "    </tr>\n",
       "    <tr>\n",
       "      <th>4</th>\n",
       "      <td>40.764129</td>\n",
       "      <td>-73.866202</td>\n",
       "      <td>4</td>\n",
       "      <td>155989</td>\n",
       "    </tr>\n",
       "    <tr>\n",
       "      <th>5</th>\n",
       "      <td>40.777757</td>\n",
       "      <td>-73.504196</td>\n",
       "      <td>5</td>\n",
       "      <td>10437</td>\n",
       "    </tr>\n",
       "    <tr>\n",
       "      <th>6</th>\n",
       "      <td>40.756109</td>\n",
       "      <td>-73.982097</td>\n",
       "      <td>6</td>\n",
       "      <td>1510021</td>\n",
       "    </tr>\n",
       "    <tr>\n",
       "      <th>7</th>\n",
       "      <td>40.919731</td>\n",
       "      <td>-73.852956</td>\n",
       "      <td>7</td>\n",
       "      <td>31462</td>\n",
       "    </tr>\n",
       "    <tr>\n",
       "      <th>8</th>\n",
       "      <td>40.710221</td>\n",
       "      <td>-73.946051</td>\n",
       "      <td>8</td>\n",
       "      <td>303136</td>\n",
       "    </tr>\n",
       "    <tr>\n",
       "      <th>9</th>\n",
       "      <td>40.726977</td>\n",
       "      <td>-73.999974</td>\n",
       "      <td>9</td>\n",
       "      <td>1521171</td>\n",
       "    </tr>\n",
       "  </tbody>\n",
       "</table>\n",
       "</div>"
      ],
      "text/plain": [
       "         Lat        Lon  Cluster    Count\n",
       "0  40.785116 -73.956916        0   543221\n",
       "1  40.654269 -73.781004        1   128843\n",
       "2  40.668468 -73.980021        2   284925\n",
       "3  40.698795 -74.203058        3    45122\n",
       "4  40.764129 -73.866202        4   155989\n",
       "5  40.777757 -73.504196        5    10437\n",
       "6  40.756109 -73.982097        6  1510021\n",
       "7  40.919731 -73.852956        7    31462\n",
       "8  40.710221 -73.946051        8   303136\n",
       "9  40.726977 -73.999974        9  1521171"
      ]
     },
     "execution_count": 8,
     "metadata": {},
     "output_type": "execute_result"
    }
   ],
   "source": [
    "# Get the cluster assignments for each data point\n",
    "df['Cluster'] = kmeans.labels_\n",
    "\n",
    "# Group by cluster and count the number of records in each cluster\n",
    "cluster_counts = df.groupby('Cluster').size().reset_index(name='Count')\n",
    "\n",
    "# Create a GeoDataFrame with centroids based on cluster centers\n",
    "cluster_centroids = pd.DataFrame(cluster_centers, columns=['Lat', 'Lon'])\n",
    "cluster_centroids['Cluster'] = range(len(cluster_centers))\n",
    "\n",
    "# Merge cluster count data with cluster centroids\n",
    "cluster_geo_count_df = pd.merge(cluster_centroids, cluster_counts, on='Cluster')\n",
    "\n",
    "cluster_geo_count_df.head(10)"
   ]
  },
  {
   "cell_type": "code",
   "execution_count": 9,
   "id": "56ed1afb",
   "metadata": {},
   "outputs": [
    {
     "data": {
      "text/html": [
       "<div>\n",
       "<style scoped>\n",
       "    .dataframe tbody tr th:only-of-type {\n",
       "        vertical-align: middle;\n",
       "    }\n",
       "\n",
       "    .dataframe tbody tr th {\n",
       "        vertical-align: top;\n",
       "    }\n",
       "\n",
       "    .dataframe thead th {\n",
       "        text-align: right;\n",
       "    }\n",
       "</style>\n",
       "<table border=\"1\" class=\"dataframe\">\n",
       "  <thead>\n",
       "    <tr style=\"text-align: right;\">\n",
       "      <th></th>\n",
       "      <th>Lat</th>\n",
       "      <th>Lon</th>\n",
       "      <th>Cluster</th>\n",
       "      <th>Count</th>\n",
       "      <th>Postcode</th>\n",
       "    </tr>\n",
       "  </thead>\n",
       "  <tbody>\n",
       "    <tr>\n",
       "      <th>0</th>\n",
       "      <td>40.785116</td>\n",
       "      <td>-73.956916</td>\n",
       "      <td>0</td>\n",
       "      <td>543221</td>\n",
       "      <td>10128</td>\n",
       "    </tr>\n",
       "    <tr>\n",
       "      <th>1</th>\n",
       "      <td>40.654269</td>\n",
       "      <td>-73.781004</td>\n",
       "      <td>1</td>\n",
       "      <td>128843</td>\n",
       "      <td>11430</td>\n",
       "    </tr>\n",
       "    <tr>\n",
       "      <th>2</th>\n",
       "      <td>40.668468</td>\n",
       "      <td>-73.980021</td>\n",
       "      <td>2</td>\n",
       "      <td>284925</td>\n",
       "      <td>11215</td>\n",
       "    </tr>\n",
       "    <tr>\n",
       "      <th>3</th>\n",
       "      <td>40.698795</td>\n",
       "      <td>-74.203058</td>\n",
       "      <td>3</td>\n",
       "      <td>45122</td>\n",
       "      <td>07112</td>\n",
       "    </tr>\n",
       "    <tr>\n",
       "      <th>4</th>\n",
       "      <td>40.764129</td>\n",
       "      <td>-73.866202</td>\n",
       "      <td>4</td>\n",
       "      <td>155989</td>\n",
       "      <td>11369</td>\n",
       "    </tr>\n",
       "    <tr>\n",
       "      <th>5</th>\n",
       "      <td>40.777757</td>\n",
       "      <td>-73.504196</td>\n",
       "      <td>5</td>\n",
       "      <td>10437</td>\n",
       "      <td>11801</td>\n",
       "    </tr>\n",
       "    <tr>\n",
       "      <th>6</th>\n",
       "      <td>40.756109</td>\n",
       "      <td>-73.982097</td>\n",
       "      <td>6</td>\n",
       "      <td>1510021</td>\n",
       "      <td>10036</td>\n",
       "    </tr>\n",
       "    <tr>\n",
       "      <th>7</th>\n",
       "      <td>40.919731</td>\n",
       "      <td>-73.852956</td>\n",
       "      <td>7</td>\n",
       "      <td>31462</td>\n",
       "      <td>10704</td>\n",
       "    </tr>\n",
       "    <tr>\n",
       "      <th>8</th>\n",
       "      <td>40.710221</td>\n",
       "      <td>-73.946051</td>\n",
       "      <td>8</td>\n",
       "      <td>303136</td>\n",
       "      <td>11206</td>\n",
       "    </tr>\n",
       "    <tr>\n",
       "      <th>9</th>\n",
       "      <td>40.726977</td>\n",
       "      <td>-73.999974</td>\n",
       "      <td>9</td>\n",
       "      <td>1521171</td>\n",
       "      <td>10012</td>\n",
       "    </tr>\n",
       "  </tbody>\n",
       "</table>\n",
       "</div>"
      ],
      "text/plain": [
       "         Lat        Lon  Cluster    Count Postcode\n",
       "0  40.785116 -73.956916        0   543221    10128\n",
       "1  40.654269 -73.781004        1   128843    11430\n",
       "2  40.668468 -73.980021        2   284925    11215\n",
       "3  40.698795 -74.203058        3    45122    07112\n",
       "4  40.764129 -73.866202        4   155989    11369\n",
       "5  40.777757 -73.504196        5    10437    11801\n",
       "6  40.756109 -73.982097        6  1510021    10036\n",
       "7  40.919731 -73.852956        7    31462    10704\n",
       "8  40.710221 -73.946051        8   303136    11206\n",
       "9  40.726977 -73.999974        9  1521171    10012"
      ]
     },
     "execution_count": 9,
     "metadata": {},
     "output_type": "execute_result"
    }
   ],
   "source": [
    "from geopy.geocoders import Nominatim\n",
    "from geopy.extra.rate_limiter import RateLimiter\n",
    "\n",
    "# Function to retrieve suburb postcode based on latitude and longitude\n",
    "def get_suburb(lat, lon):\n",
    "    # Create a geolocator object using Nominatim with a custom user agent\n",
    "    geolocator = Nominatim(user_agent=\"uniproject\")\n",
    "    \n",
    "    # Wrap the geolocator.reverse function with RateLimiter to control the rate of API calls\n",
    "    reverse = RateLimiter(geolocator.reverse, min_delay_seconds=1, max_retries=0)\n",
    "    \n",
    "    # Perform reverse geocoding to get location information based on lat, lon\n",
    "    location = reverse((lat, lon), exactly_one=True)\n",
    "    \n",
    "    if location:\n",
    "        # Extract address information from the location result\n",
    "        address = location.raw.get('address', {})\n",
    "         # Get the postcode from the address dictionary\n",
    "        postcode = address.get('postcode', None)\n",
    "        return postcode\n",
    "    else:\n",
    "        return None\n",
    "\n",
    "\n",
    "# Add suburb names to cluster_geo_count_df\n",
    "cluster_geo_count_df['Postcode'] = cluster_geo_count_df.apply(lambda row: get_suburb(row['Lat'], row['Lon']), axis=1)\n",
    "\n",
    "cluster_geo_count_df.head(10)"
   ]
  },
  {
   "cell_type": "code",
   "execution_count": 10,
   "id": "1e283224",
   "metadata": {},
   "outputs": [],
   "source": [
    "# Merge suburb names back into the main DataFrame based on the cluster labels\n",
    "df = pd.merge(df, cluster_geo_count_df[['Cluster', 'Postcode']], on='Cluster', how='left')"
   ]
  },
  {
   "cell_type": "code",
   "execution_count": 11,
   "id": "a019dd79",
   "metadata": {},
   "outputs": [],
   "source": [
    "# Add neighborhood names, source: unitedstateszipcodes.org\n",
    "\n",
    "neighborhood = {\n",
    "    '10036':'Clinton',\n",
    "    '11430':'Queens',\n",
    "    '11369':'East Elmhurst',\n",
    "    '11215':'South Slope',\n",
    "    '11206':'Williamsburg',\n",
    "    '07112':'Weequahic',\n",
    "    '10128':'Yorkville',\n",
    "    '10704':'Dunwoodie',\n",
    "    '11801':'Oyster Bay',\n",
    "    '10012':'NoHo'\n",
    "}\n",
    "\n",
    "# Create new column for neighborhoods\n",
    "df['Neighborhood'] = df['Postcode'].map(neighborhood)"
   ]
  },
  {
   "cell_type": "markdown",
   "id": "5746a5c0",
   "metadata": {},
   "source": [
    "### Feature Engineering"
   ]
  },
  {
   "cell_type": "code",
   "execution_count": 24,
   "id": "73aae6ab",
   "metadata": {},
   "outputs": [],
   "source": [
    "import holidays as pyholidays\n",
    "\n",
    "def add_columns(df):\n",
    "\n",
    "    # Create a column for the month\n",
    "    df['Month'] = df['Date'].dt.month\n",
    "\n",
    "    # Create a column for the weekday\n",
    "    df['Weekday'] = df['Date'].dt.strftime('%w')\n",
    "    \n",
    "    # Create a column for the weekday type\n",
    "    df['IsWeekend'] = df['Weekday'].isin([5, 6]).astype(int)\n",
    "\n",
    "    # Initialize holidays\n",
    "    us_holidays = pyholidays.US()\n",
    "\n",
    "    # Create a column to check if each date is a holiday\n",
    "    df['Holiday'] = df['Date'].apply(lambda x: x in us_holidays)\n",
    "    \n",
    "    # Add a column 'Hour_Category' to the DataFrame indicating weekday or weekend\n",
    "    df['Hour_Category'] = df.apply(lambda row: categorize_hour(int(row['Hour']), row['IsWeekend'] == 0), axis=1)\n"
   ]
  },
  {
   "cell_type": "code",
   "execution_count": 25,
   "id": "35f3042f",
   "metadata": {},
   "outputs": [],
   "source": [
    "# Function to categorize the hours\n",
    "def categorize_hour(hour, is_weekday):\n",
    "    if 7 <= hour < 10 and is_weekday:  # Morning rush hours on weekdays\n",
    "        return 'Morning Rush'\n",
    "    elif 16 <= hour < 19 and is_weekday:  # Evening rush hours on weekdays\n",
    "        return 'Evening Rush'\n",
    "    elif 6 <= hour < 12:\n",
    "        return 'Morning'\n",
    "    elif 12 <= hour < 18:\n",
    "        return 'Afternoon'\n",
    "    elif 18 <= hour < 22:\n",
    "        return 'Evening'\n",
    "    else:\n",
    "        return 'Night'"
   ]
  },
  {
   "cell_type": "code",
   "execution_count": 33,
   "id": "5b276464",
   "metadata": {},
   "outputs": [],
   "source": [
    "# Create a column for the month name\n",
    "df['Month_Name'] = df['Date'].dt.strftime('%B')\n",
    "\n",
    "# Create a column for the day number\n",
    "df['Day_Number'] = df['Date'].dt.day\n",
    "\n",
    "# Create a column for the weekday name\n",
    "df['Weekday_Name'] = df['Date'].dt.strftime('%a')\n",
    "\n",
    "add_columns(df)"
   ]
  },
  {
   "cell_type": "markdown",
   "id": "f3228b26",
   "metadata": {},
   "source": [
    "### Aggregated Dataframe"
   ]
  },
  {
   "cell_type": "code",
   "execution_count": 34,
   "id": "9d1b99dd",
   "metadata": {},
   "outputs": [],
   "source": [
    "# Ensure the DataFrame is sorted by Date, Hour, and Cluster\n",
    "df_sorted = df.sort_values(by=['Date', 'Hour', 'Cluster'])\n",
    "\n",
    "# Calculate total pickups per hour and cluster\n",
    "df_aggregated = df_sorted.groupby(['Date', 'Hour', 'Cluster']).size().reset_index(name='TotalPickups')"
   ]
  },
  {
   "cell_type": "code",
   "execution_count": 35,
   "id": "0399a6d7",
   "metadata": {},
   "outputs": [
    {
     "name": "stdout",
     "output_type": "stream",
     "text": [
      "43920\n"
     ]
    }
   ],
   "source": [
    "# Create a MultiIndex with all combinations of Date, Hour, and Cluster\n",
    "date_range = pd.date_range(start=df_aggregated['Date'].min(), end=df_aggregated['Date'].max(), freq='D')\n",
    "hours = range(24)\n",
    "clusters = df_aggregated['Cluster'].unique()\n",
    "index = pd.MultiIndex.from_product([date_range, hours, clusters], names=['Date', 'Hour', 'Cluster'])\n",
    "\n",
    "# Reindex the DataFrame to include all combinations\n",
    "df_aggregated = df_aggregated.set_index(['Date', 'Hour', 'Cluster']).reindex(index, fill_value=0).reset_index()\n",
    "\n",
    "# Concatenate the original aggregated DataFrame with the reindexed DataFrame\n",
    "df_aggregated = pd.concat([df_aggregated, df.groupby(['Date', 'Hour', 'Cluster']).size().reset_index(name='TotalPickups')], ignore_index=True)\n",
    "\n",
    "# Fill missing values with zeros\n",
    "df_aggregated['TotalPickups'] = df_aggregated['TotalPickups'].fillna(0)\n",
    "\n",
    "# Sort the DataFrame by Date, Hour, and Cluster\n",
    "df_aggregated = df_aggregated.sort_values(by=['Date', 'Hour', 'Cluster']).reset_index(drop=True)\n",
    "\n",
    "df_aggregated = df_aggregated.drop_duplicates()\n",
    "\n",
    "print(len(df_aggregated))"
   ]
  },
  {
   "cell_type": "code",
   "execution_count": 36,
   "id": "d5a01116",
   "metadata": {},
   "outputs": [],
   "source": [
    "add_columns(df_aggregated)\n",
    "\n",
    "# Combine Date and Hour into a Datetime column\n",
    "df_aggregated['Datetime'] = df_aggregated['Date'] + pd.to_timedelta(df_aggregated['Hour'], unit='h')\n",
    "\n",
    "df_aggregated = df_aggregated.drop(['Date'], axis =1)"
   ]
  },
  {
   "cell_type": "code",
   "execution_count": 37,
   "id": "4b709c7f",
   "metadata": {},
   "outputs": [
    {
     "name": "stdout",
     "output_type": "stream",
     "text": [
      "                  Date/Time      Lat      Lon    Base       Date      Time  \\\n",
      "0       2014-04-01 00:00:00  40.7188 -73.9863  B02598 2014-04-01  00:00:00   \n",
      "1       2014-04-01 00:00:00  40.7215 -73.9952  B02682 2014-04-01  00:00:00   \n",
      "2       2014-04-01 00:00:00  40.7637 -73.9600  B02598 2014-04-01  00:00:00   \n",
      "3       2014-04-01 00:01:00  40.7355 -73.9966  B02617 2014-04-01  00:01:00   \n",
      "4       2014-04-01 00:02:00  40.7184 -73.9601  B02682 2014-04-01  00:02:00   \n",
      "...                     ...      ...      ...     ...        ...       ...   \n",
      "4534322 2014-09-09 09:59:00  40.7294 -73.9877  B02682 2014-09-09  09:59:00   \n",
      "4534323 2014-09-09 09:59:00  40.7199 -73.9952  B02682 2014-09-09  09:59:00   \n",
      "4534324 2014-09-09 09:59:00  40.7182 -74.0016  B02682 2014-09-09  09:59:00   \n",
      "4534325 2014-09-09 09:59:00  40.7450 -74.0085  B02598 2014-09-09  09:59:00   \n",
      "4534326 2014-09-09 09:59:00  40.7607 -73.9715  B02617 2014-09-09  09:59:00   \n",
      "\n",
      "         Hour  Cluster Postcode  Neighborhood Month_Name  Day_Number  \\\n",
      "0           0        9    10012          NoHo      April           1   \n",
      "1           0        9    10012          NoHo      April           1   \n",
      "2           0        0    10128     Yorkville      April           1   \n",
      "3           0        9    10012          NoHo      April           1   \n",
      "4           0        8    11206  Williamsburg      April           1   \n",
      "...       ...      ...      ...           ...        ...         ...   \n",
      "4534322     9        9    10012          NoHo  September           9   \n",
      "4534323     9        9    10012          NoHo  September           9   \n",
      "4534324     9        9    10012          NoHo  September           9   \n",
      "4534325     9        9    10012          NoHo  September           9   \n",
      "4534326     9        6    10036       Clinton  September           9   \n",
      "\n",
      "        Weekday_Name  Month Weekday  IsWeekend  Holiday Hour_Category  \n",
      "0                Tue      4       2          0    False         Night  \n",
      "1                Tue      4       2          0    False         Night  \n",
      "2                Tue      4       2          0    False         Night  \n",
      "3                Tue      4       2          0    False         Night  \n",
      "4                Tue      4       2          0    False         Night  \n",
      "...              ...    ...     ...        ...      ...           ...  \n",
      "4534322          Tue      9       2          0    False  Morning Rush  \n",
      "4534323          Tue      9       2          0    False  Morning Rush  \n",
      "4534324          Tue      9       2          0    False  Morning Rush  \n",
      "4534325          Tue      9       2          0    False  Morning Rush  \n",
      "4534326          Tue      9       2          0    False  Morning Rush  \n",
      "\n",
      "[4534327 rows x 18 columns]\n"
     ]
    }
   ],
   "source": [
    "print(df)"
   ]
  },
  {
   "cell_type": "code",
   "execution_count": 38,
   "id": "6c4a8de8",
   "metadata": {},
   "outputs": [
    {
     "name": "stdout",
     "output_type": "stream",
     "text": [
      "       Hour  Cluster  TotalPickups  Month Weekday  IsWeekend  Holiday  \\\n",
      "0         0        0            12      4       2          0    False   \n",
      "2         0        1             7      4       2          0    False   \n",
      "4         0        2             6      4       2          0    False   \n",
      "6         0        3             0      4       2          0    False   \n",
      "7         0        4             1      4       2          0    False   \n",
      "...     ...      ...           ...    ...     ...        ...      ...   \n",
      "86166    23        5             0      9       2          0    False   \n",
      "86167    23        6             0      9       2          0    False   \n",
      "86168    23        7             0      9       2          0    False   \n",
      "86169    23        8             0      9       2          0    False   \n",
      "86170    23        9             0      9       2          0    False   \n",
      "\n",
      "      Hour_Category            Datetime  \n",
      "0             Night 2014-04-01 00:00:00  \n",
      "2             Night 2014-04-01 00:00:00  \n",
      "4             Night 2014-04-01 00:00:00  \n",
      "6             Night 2014-04-01 00:00:00  \n",
      "7             Night 2014-04-01 00:00:00  \n",
      "...             ...                 ...  \n",
      "86166         Night 2014-09-30 23:00:00  \n",
      "86167         Night 2014-09-30 23:00:00  \n",
      "86168         Night 2014-09-30 23:00:00  \n",
      "86169         Night 2014-09-30 23:00:00  \n",
      "86170         Night 2014-09-30 23:00:00  \n",
      "\n",
      "[43920 rows x 9 columns]\n"
     ]
    }
   ],
   "source": [
    "print(df_aggregated)"
   ]
  },
  {
   "cell_type": "code",
   "execution_count": 39,
   "id": "b4e94152",
   "metadata": {},
   "outputs": [
    {
     "name": "stdout",
     "output_type": "stream",
     "text": [
      "Stored 'df' (DataFrame)\n",
      "Stored 'df_aggregated' (DataFrame)\n"
     ]
    }
   ],
   "source": [
    "#dataframe for eda\n",
    "%store df\n",
    "\n",
    "#dataframe for time series regression\n",
    "%store df_aggregated "
   ]
  },
  {
   "cell_type": "code",
   "execution_count": null,
   "id": "cb5eb316",
   "metadata": {},
   "outputs": [],
   "source": []
  }
 ],
 "metadata": {
  "kernelspec": {
   "display_name": "Python 3 (ipykernel)",
   "language": "python",
   "name": "python3"
  },
  "language_info": {
   "codemirror_mode": {
    "name": "ipython",
    "version": 3
   },
   "file_extension": ".py",
   "mimetype": "text/x-python",
   "name": "python",
   "nbconvert_exporter": "python",
   "pygments_lexer": "ipython3",
   "version": "3.11.5"
  }
 },
 "nbformat": 4,
 "nbformat_minor": 5
}
